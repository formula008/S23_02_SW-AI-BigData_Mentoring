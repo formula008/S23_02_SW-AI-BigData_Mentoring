{
  "cells": [
    {
      "cell_type": "markdown",
      "metadata": {
        "id": "view-in-github",
        "colab_type": "text"
      },
      "source": [
        "<a href=\"https://colab.research.google.com/github/formula008/S23_02_SW-AI-BigData_Mentoring/blob/main/09%EA%B0%95_(%ED%94%84%EB%A1%9C%EC%A0%9D%ED%8A%B82)_%EB%82%A8%EC%84%B1%EC%9D%B4_%EB%A7%8E%EC%9D%80_%EC%A7%80%EC%97%AD%EA%B3%BC_%EC%97%AC%EC%84%B1%EC%9D%B4_%EB%A7%8E%EC%9D%80_%EC%A7%80%EC%97%AD_%EB%B9%84%EA%B5%90%ED%95%98%EA%B8%B0(%EC%8B%A4%EC%8A%B5%EC%9A%A9).ipynb\" target=\"_parent\"><img src=\"https://colab.research.google.com/assets/colab-badge.svg\" alt=\"Open In Colab\"/></a>"
      ]
    },
    {
      "cell_type": "code",
      "execution_count": null,
      "id": "66706e74",
      "metadata": {
        "id": "66706e74"
      },
      "outputs": [],
      "source": [
        "<프로젝트 설명>\n",
        "[프로젝트1]을 기반으로 남성이 많은 지역 상위 10곳, 여성이 많은 지역 10곳도 각각 지도에 표시한다.\n",
        "남성이나 여성이 많은 지역 10곳을 지도 위에 마커로 표시하되 1~5위 지역과 6~10위 지역을 다른 색으로 표시한다.\n",
        "[프로젝트1]을 수정해서 남성 또는 여성 인구만을 기준으로 프로그램을 작성하라.\n",
        "총생활인구를 구하는 대신, 남성 인구와 여성 인구의 합을 구하는 것으로 대체한다."
      ]
    },
    {
      "cell_type": "code",
      "execution_count": null,
      "id": "9c56cf80",
      "metadata": {
        "id": "9c56cf80"
      },
      "outputs": [],
      "source": [
        "<알고리즘>\n",
        "1. 필요한 데이터 파일 모두 읽어 들이기\n",
        "2. 행정동별 남녀 인구수를 저장하는 빈 딕셔너리를 만들고 행정동명을 키로, 인구수를 값으로 저장하기\n",
        "3. 인구수를 기준으로 내림차순 정렬하고, 앞에서 10개 항목만 행정동코드 리스트에 저장하기\n",
        "4. 행정동 코드 리스트의 8자리 행정도 코드에 해당하는 행정동명을 찾아서 각각 위도, 경도 리스트에 저장하기\n",
        "5. 행정동명 리스트의 행정동명에 해당하는 위도와 경도를 찾아서 각각 위도, 경도 리스트에 저장하기\n",
        "6. 완성된 리스트를 지도에 그리고 1~5지역과 6~10위 지역을 다른 색으로 표시하기"
      ]
    },
    {
      "cell_type": "markdown",
      "id": "7ccdac7e",
      "metadata": {
        "id": "7ccdac7e"
      },
      "source": [
        "# 1. 필요한 데이터 파일 모두 읽어 들이기"
      ]
    },
    {
      "cell_type": "code",
      "execution_count": null,
      "id": "b2edf31d",
      "metadata": {
        "id": "b2edf31d"
      },
      "outputs": [],
      "source": [
        "# 1. 필요한 데이터 파일 모두 읽어 들이기\n",
        "import csv\n",
        "\n",
        "# 인구데이터 읽어와서 리스트로 저장하기\n",
        "\n",
        "\n",
        "# 행정동코드 데이터 읽어와서 리스트로 저장하기\n",
        "\n",
        "\n",
        "# 위치 정보 데이터 읽어와서 리스트로 저장하기\n",
        "\n",
        "\n",
        "# 인구 데이터의 타입 변환하기\n",
        "\n",
        "\n",
        "# 행정동코드 데이터의 데이터 타입 변환하기\n",
        "\n",
        "\n",
        "# 위치 정보 데이터의 데이터 타입 변환하기\n"
      ]
    },
    {
      "cell_type": "markdown",
      "id": "c3068e4a",
      "metadata": {
        "id": "c3068e4a"
      },
      "source": [
        "# 남성이 많은 지역"
      ]
    },
    {
      "cell_type": "code",
      "execution_count": null,
      "id": "67a67393",
      "metadata": {
        "id": "67a67393"
      },
      "outputs": [],
      "source": [
        "- 리스트명이 top10_code8에서 male_code8로 변경하고 남성인구를 구하는 코드를 추가한다.\n",
        "- 남성인구는 인구데이터(data)의 인덱스[4]부터 [17]까지의 합을 구한다."
      ]
    },
    {
      "cell_type": "code",
      "execution_count": null,
      "id": "2c197d34",
      "metadata": {
        "scrolled": true,
        "id": "2c197d34"
      },
      "outputs": [],
      "source": [
        "# 2. 인구데이터를 읽으며 행정동별 남성 인구수를 저장하는 딕셔너리 완성하기\n"
      ]
    },
    {
      "cell_type": "code",
      "execution_count": null,
      "id": "82fae3b4",
      "metadata": {
        "id": "82fae3b4"
      },
      "outputs": [],
      "source": [
        "# 3. 인구수를 기준으로 내림차순 정렬하고,\n",
        "# 앞에서 10개 항목만 별도로 저장하기\n",
        "\n"
      ]
    },
    {
      "cell_type": "code",
      "execution_count": null,
      "id": "b9a51204",
      "metadata": {
        "id": "b9a51204"
      },
      "outputs": [],
      "source": [
        " #행정동을 저장하는 리스트\n",
        " #위도를 저장하는 리스트\n",
        " #경도를 저장하는 리스트"
      ]
    },
    {
      "cell_type": "code",
      "execution_count": null,
      "id": "91480617",
      "metadata": {
        "id": "91480617"
      },
      "outputs": [],
      "source": [
        "# 4. 8자리 행정동코드에 해당하는 행정동명 찾기\n",
        "\n",
        "# 5. 행정동명에 해당하는 위도와 경도를 찾아 리스트에 저장하기\n",
        "\n",
        "\n"
      ]
    },
    {
      "cell_type": "code",
      "execution_count": null,
      "id": "50c9edf9",
      "metadata": {
        "scrolled": true,
        "id": "50c9edf9"
      },
      "outputs": [],
      "source": [
        "# 6. 완성된 리스트로 지도 그리기\n",
        "# 1~5위 지역은 진한 파란색으로 표시 -> color='darkblue', icon='male',prefix='fa'\n",
        "# 6~10위 지역은 연한 파란색으로 표시하기 -> color='lightblue', icon='male', prefix='fa'\n"
      ]
    },
    {
      "cell_type": "code",
      "execution_count": null,
      "id": "dd043fd6",
      "metadata": {
        "id": "dd043fd6"
      },
      "outputs": [],
      "source": [
        "#서울 전체 인구 분포와 남성 인구 분포에 대한 분석 결과를 기술하시오.\n"
      ]
    },
    {
      "cell_type": "markdown",
      "id": "deb6a13c",
      "metadata": {
        "id": "deb6a13c"
      },
      "source": [
        "# 여성이 많은 지역"
      ]
    },
    {
      "cell_type": "code",
      "execution_count": null,
      "id": "12e70e85",
      "metadata": {
        "id": "12e70e85"
      },
      "outputs": [],
      "source": [
        "- 리스트명이 top10_code8에서 female_code8로 변경하고 남성인구를 구하는 코드를 추가한다.\n",
        "- 여성인구는 인구데이터(data)의 인덱스[18]부터 [32]까지의 합을 구한다."
      ]
    },
    {
      "cell_type": "code",
      "execution_count": null,
      "id": "53246f45",
      "metadata": {
        "id": "53246f45"
      },
      "outputs": [],
      "source": [
        "# 2. 인구데이터를 읽으며 행정동별 여성 인구수를 저장하는 딕셔너리 완성하기\n"
      ]
    },
    {
      "cell_type": "code",
      "execution_count": null,
      "id": "7ac59b86",
      "metadata": {
        "id": "7ac59b86"
      },
      "outputs": [],
      "source": [
        "# 3. 인구수를 기준으로 내림차순 정렬하고,\n",
        "# 앞에서 10개 항목만 별도로 저장하기\n",
        "\n"
      ]
    },
    {
      "cell_type": "code",
      "execution_count": null,
      "id": "2a210127",
      "metadata": {
        "id": "2a210127"
      },
      "outputs": [],
      "source": [
        " #행정동을 저장하는 리스트\n",
        " #위도를 저장하는 리스트\n",
        " #경도를 저장하는 리스트"
      ]
    },
    {
      "cell_type": "code",
      "execution_count": null,
      "id": "defe4968",
      "metadata": {
        "id": "defe4968"
      },
      "outputs": [],
      "source": [
        "# 4. 8자리 행정동코드에 해당하는 행정동명 찾기\n",
        "\n",
        "# 5. 행정동명에 해당하는 위도와 경도를 찾아 리스트에 저장하기\n",
        "\n",
        "\n"
      ]
    },
    {
      "cell_type": "code",
      "execution_count": null,
      "id": "d4d89f4c",
      "metadata": {
        "scrolled": true,
        "id": "d4d89f4c"
      },
      "outputs": [],
      "source": [
        "# 6. 완성된 리스트로 지도 그리기\n",
        "# 1~5위 지역은 진한 파란색으로 표시 -> color='red', icon='female',prefix='fa'\n",
        "# 6~10위 지역은 연한 파란색으로 표시하기 -> color='pink', icon='female', prefix='fa'\n"
      ]
    },
    {
      "cell_type": "code",
      "execution_count": null,
      "id": "804443db",
      "metadata": {
        "id": "804443db"
      },
      "outputs": [],
      "source": [
        "#서울 전체 인구 분포와 여성 인구 분포에 대한 분석 결과를 기술하시오.\n"
      ]
    }
  ],
  "metadata": {
    "kernelspec": {
      "display_name": "Python 3",
      "language": "python",
      "name": "python3"
    },
    "language_info": {
      "codemirror_mode": {
        "name": "ipython",
        "version": 3
      },
      "file_extension": ".py",
      "mimetype": "text/x-python",
      "name": "python",
      "nbconvert_exporter": "python",
      "pygments_lexer": "ipython3",
      "version": "3.8.8"
    },
    "colab": {
      "provenance": [],
      "include_colab_link": true
    }
  },
  "nbformat": 4,
  "nbformat_minor": 5
}