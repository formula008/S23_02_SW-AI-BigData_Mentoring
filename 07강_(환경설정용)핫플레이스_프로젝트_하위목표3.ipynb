{
  "nbformat": 4,
  "nbformat_minor": 0,
  "metadata": {
    "colab": {
      "provenance": [],
      "include_colab_link": true
    },
    "kernelspec": {
      "name": "python3",
      "display_name": "Python 3"
    }
  },
  "cells": [
    {
      "cell_type": "markdown",
      "metadata": {
        "id": "view-in-github",
        "colab_type": "text"
      },
      "source": [
        "<a href=\"https://colab.research.google.com/github/formula008/S23_02_SW-AI-BigData_Mentoring/blob/main/07%EA%B0%95_(%ED%99%98%EA%B2%BD%EC%84%A4%EC%A0%95%EC%9A%A9)%ED%95%AB%ED%94%8C%EB%A0%88%EC%9D%B4%EC%8A%A4_%ED%94%84%EB%A1%9C%EC%A0%9D%ED%8A%B8_%ED%95%98%EC%9C%84%EB%AA%A9%ED%91%9C3.ipynb\" target=\"_parent\"><img src=\"https://colab.research.google.com/assets/colab-badge.svg\" alt=\"Open In Colab\"/></a>"
      ]
    },
    {
      "cell_type": "markdown",
      "metadata": {
        "id": "oQlXJLnwF7pK"
      },
      "source": [
        "들어가기 전에)\n",
        "<br/>\n",
        "11장은 코랩이 아닌 **주피터 노트북** 에서 진행해주세요"
      ]
    },
    {
      "cell_type": "markdown",
      "metadata": {
        "id": "AJJmdk2i7Fb-"
      },
      "source": [
        "<img src='https://github.com/teacher-jiejie/allinone_AI/blob/images/87_%EB%A1%9C%EB%93%9C%EB%A7%B5.png?raw=true' width=700>"
      ]
    },
    {
      "cell_type": "markdown",
      "metadata": {
        "id": "FzBW2NLn7J5t"
      },
      "source": [
        "# 1. 프로젝트 목표 수립\n"
      ]
    },
    {
      "cell_type": "markdown",
      "metadata": {
        "id": "qNIT40Qr80c1"
      },
      "source": [
        "**핫플레이스, 언제 가야 가장 덜 붐빌까?**\n",
        "\n",
        "그런데, 데이터가 있나?"
      ]
    },
    {
      "cell_type": "markdown",
      "metadata": {
        "id": "uKteuac_-whw"
      },
      "source": [
        "### 1) 데이터 선정\n",
        "\n",
        "데이터 : 구글에서 데이터를 찾아보자!\n",
        "\n",
        "구글에 '서울 시간대별 인구 데이터' 검색\n",
        "\n",
        ">\n",
        "<br/>\n",
        ">  "
      ]
    },
    {
      "cell_type": "markdown",
      "metadata": {
        "id": "9Tuar_6tUQK5"
      },
      "source": [
        "<img src='https://github.com/teacher-jiejie/allinone_AI/blob/images/99_%EB%8D%B0%EC%9D%B4%ED%84%B0%ED%97%A4%EB%8D%94.png?raw=true' width=800>"
      ]
    },
    {
      "cell_type": "markdown",
      "metadata": {
        "id": "cIbzo9JiFLdb"
      },
      "source": [
        "### 2) 목표 수립하기"
      ]
    },
    {
      "cell_type": "markdown",
      "metadata": {
        "id": "qublb2aUsXL4"
      },
      "source": [
        "하위 목표 1 :"
      ]
    },
    {
      "cell_type": "markdown",
      "metadata": {
        "id": "UDpGnB7q84Pa"
      },
      "source": [
        "\n",
        "\n",
        "<img src='https://github.com/teacher-jiejie/allinone_AI/blob/images/93_%ED%95%AB%ED%94%8C_%ED%95%98%EC%9C%84%EB%AA%A9%ED%91%9C1.png?raw=true' width=300>"
      ]
    },
    {
      "cell_type": "markdown",
      "metadata": {
        "id": "oCYC1DMNsYBa"
      },
      "source": [
        "하위 목표 2 :"
      ]
    },
    {
      "cell_type": "markdown",
      "metadata": {
        "id": "oGaVvTH59CNE"
      },
      "source": [
        "\n",
        "<img src='https://github.com/teacher-jiejie/allinone_AI/blob/images/94_%ED%95%AB%ED%94%8C_%ED%95%98%EC%9C%84%EB%AA%A9%ED%91%9C2.png?raw=true' width=300>"
      ]
    },
    {
      "cell_type": "markdown",
      "metadata": {
        "id": "U3ii1z1YsavQ"
      },
      "source": [
        "하위 목표 3 :"
      ]
    },
    {
      "cell_type": "markdown",
      "metadata": {
        "id": "HJq4l9v99CPY"
      },
      "source": [
        "<img src='https://github.com/teacher-jiejie/allinone_AI/blob/images/95_%ED%95%AB%ED%94%8C_%ED%95%98%EC%9C%84%EB%AA%A9%ED%91%9C3.png?raw=true' width=300>"
      ]
    },
    {
      "cell_type": "markdown",
      "metadata": {
        "id": "Ba6UfnbQsc2M"
      },
      "source": [
        "하위 목표 4 :"
      ]
    },
    {
      "cell_type": "markdown",
      "metadata": {
        "id": "wPQbcCw0LdQg"
      },
      "source": [
        "<img src='https://github.com/teacher-jiejie/allinone_AI/blob/images/96_%ED%95%AB%ED%94%8C_%ED%95%98%EC%9C%84%EB%AA%A9%ED%91%9C4.png?raw=true' width=300>"
      ]
    },
    {
      "cell_type": "markdown",
      "metadata": {
        "id": "8tv7s4JY-5ff"
      },
      "source": [
        "# 2. 프로그램 구현\n"
      ]
    },
    {
      "cell_type": "code",
      "source": [
        "!sudo apt-get install -y fonts-nanum\n",
        "!sudo fc-cache -fv\n",
        "!rm ~/.cache/matplotlib -rf"
      ],
      "metadata": {
        "id": "us_z06YKjX04"
      },
      "execution_count": null,
      "outputs": []
    },
    {
      "cell_type": "markdown",
      "source": [
        "# 런타임 다시 시작"
      ],
      "metadata": {
        "id": "t7xTKeyIjarg"
      }
    },
    {
      "cell_type": "code",
      "source": [
        "from google.colab import drive\n",
        "drive.mount('/content/drive')"
      ],
      "metadata": {
        "id": "nPhLGPJkd0ym"
      },
      "execution_count": null,
      "outputs": []
    },
    {
      "cell_type": "markdown",
      "metadata": {
        "id": "ub-qn9GtNTh5"
      },
      "source": [
        "**프로젝트에 필요한 데이터 파일 읽기**\n",
        "\n",
        "```\n",
        "import csv\n",
        "\n",
        "f = open('파일이름.csv', encoding='utf8') # 또는  'eur-kr', 'cp949'\n",
        "data = csv.reader(f)\n",
        "next(data)\n",
        "data = list(data)\n",
        "```\n",
        "주의사항! 파이썬 파일과 데이터 파일을 같은 폴더에 위치시킨 후 코드 작성하기\n"
      ]
    },
    {
      "cell_type": "code",
      "metadata": {
        "id": "qM8Tpf_pNlMk",
        "colab": {
          "base_uri": "https://localhost:8080/"
        },
        "outputId": "300da328-d6bc-4c12-cf2a-97e3ac30da65"
      },
      "source": [
        "# 인구데이터 파일 읽기\n",
        "import csv\n",
        "\n",
        "f = open('/content/drive/MyDrive/data/LOCAL_PEOPLE_DONG_202310.csv', encoding='utf8') # 또는  'eur-kr', 'cp949'\n",
        "data = csv.reader(f)\n",
        "next(data)\n",
        "data = list(data)\n",
        "print(len(data))"
      ],
      "execution_count": 2,
      "outputs": [
        {
          "output_type": "stream",
          "name": "stdout",
          "text": [
            "315456\n"
          ]
        }
      ]
    },
    {
      "cell_type": "code",
      "metadata": {
        "id": "nruSYN0jNlR4",
        "colab": {
          "base_uri": "https://localhost:8080/"
        },
        "outputId": "bf1cb08e-e8c8-4dee-c9b2-7eab7fb4e912"
      },
      "source": [
        "# 행정동코드 데이터 파일 읽기\n",
        "f2 = open('/content/drive/MyDrive/data/dong_code.csv', encoding = 'cp949')\n",
        "code_data = csv.reader(f2)\n",
        "next(code_data)\n",
        "next(code_data)\n",
        "code_data = list(code_data)\n",
        "print(len(code_data))"
      ],
      "execution_count": 3,
      "outputs": [
        {
          "output_type": "stream",
          "name": "stdout",
          "text": [
            "424\n"
          ]
        }
      ]
    },
    {
      "cell_type": "code",
      "metadata": {
        "id": "jcUObnTtNovl",
        "colab": {
          "base_uri": "https://localhost:8080/"
        },
        "outputId": "efdab0f2-8596-4b18-8ced-f57f3e0837f7"
      },
      "source": [
        "# 인구데이터 확인해보기\n",
        "print(data[0])"
      ],
      "execution_count": 4,
      "outputs": [
        {
          "output_type": "stream",
          "name": "stdout",
          "text": [
            "['20231001', '00', '11380530', '22734.252899999999', '360.9099', '224.83619999999999', '552.17790000000002', '598.92960000000005', '882.56949999999995', '836.17060000000004', '939.64890000000003', '822.58780000000002', '870.59910000000002', '842.64520000000005', '905.89229999999998', '860.71720000000005', '623.16409999999996', '1257.6643999999999', '558.50879999999995', '299.27600000000001', '451.48349999999999', '770.94569999999999', '811.85659999999996', '862.15070000000003', '873.90380000000005', '667.01509999999996', '1019.9621', '960.80579999999998', '1075.1080999999999', '1002.6932', '762.44759999999997', '2039.5830000000001', '']\n"
          ]
        }
      ]
    },
    {
      "cell_type": "markdown",
      "metadata": {
        "id": "VPahQssoO-Iz"
      },
      "source": [
        "**데이터타입 미리 변환하기**\n",
        "\n",
        "인구수를 계량화하려면 연산이 필수!\n",
        "\n"
      ]
    },
    {
      "cell_type": "markdown",
      "metadata": {
        "id": "lT_YzPgrPu9C"
      },
      "source": [
        "인구데이터의 타입 변환하기\n",
        "\n",
        "\n",
        "```\n",
        "for row in data:\n",
        "    row[1] = int(row[1])       # 시간대구분\n",
        "    row[2] = int(row[1])       # 행정동코드\n",
        "    row[3] = float(row[1])     # 총생활인구수\n",
        "    row[4] = float(row[1])     # 남자0세부터9세생활인구수\n",
        "    ...\n",
        "    row[31] = float(row[31])   # 여자70세이상생활인구수\n",
        "\n",
        "```\n",
        "\n"
      ]
    },
    {
      "cell_type": "code",
      "metadata": {
        "id": "kLHSbQKuO6Yq",
        "colab": {
          "base_uri": "https://localhost:8080/"
        },
        "outputId": "5140ea67-7668-495f-98c9-ea576794c87a"
      },
      "source": [
        "for row in data:\n",
        "    for i in range(1, 32):\n",
        "        if i <= 2:      # 인덱스가 2이하인 경우 정수형으로 변환\n",
        "            row[i] = int(row[i])\n",
        "        else:           # 인덱스가 2초과인 경우 실수형으로 변환\n",
        "            row[i] = float(row[i])\n",
        "\n",
        "print(data[0])"
      ],
      "execution_count": 5,
      "outputs": [
        {
          "output_type": "stream",
          "name": "stdout",
          "text": [
            "['20231001', 0, 11380530, 22734.2529, 360.9099, 224.8362, 552.1779, 598.9296, 882.5695, 836.1706, 939.6489, 822.5878, 870.5991, 842.6452, 905.8923, 860.7172, 623.1641, 1257.6644, 558.5088, 299.276, 451.4835, 770.9457, 811.8566, 862.1507, 873.9038, 667.0151, 1019.9621, 960.8058, 1075.1081, 1002.6932, 762.4476, 2039.583, '']\n"
          ]
        }
      ]
    },
    {
      "cell_type": "markdown",
      "metadata": {
        "id": "uUusiTHiP_2u"
      },
      "source": [
        "코드 데이터의 타입 변환하기"
      ]
    },
    {
      "cell_type": "code",
      "metadata": {
        "id": "eMgC5q8GQTPK",
        "colab": {
          "base_uri": "https://localhost:8080/"
        },
        "outputId": "5d6dfccf-70fc-4064-9c5e-bd2e8e66cae4"
      },
      "source": [
        "# 프로젝트에서 사용할 예정인 행자부 행정동코드만 숫자로 변경\n",
        "for row in code_data:\n",
        "    row[1] = int(row[1])\n",
        "print(code_data[0])"
      ],
      "execution_count": 6,
      "outputs": [
        {
          "output_type": "stream",
          "name": "stdout",
          "text": [
            "['1101053', 11110530, '서울', '종로구', '사직동']\n"
          ]
        }
      ]
    },
    {
      "cell_type": "markdown",
      "metadata": {
        "id": "ryc8Gpy2Qbiu"
      },
      "source": [
        "**사용자에게 행정동명을 입력받고, 대응되는 행정동코드를 찾기**"
      ]
    },
    {
      "cell_type": "markdown",
      "metadata": {
        "id": "BSLbTec-Qomi"
      },
      "source": [
        "```\n",
        "1. 사용자에게서 행정동명을 입력받아 변수(dong_name)에 저장하기\n",
        "2. 행정동코드 데이터(code_data)를 돌며 반복하기\n",
        "  2-1. 행정동코드 데이터의 마지막 열인 행정동명(열 인덱스[-1])이 입력된 행정동명(dong_name)과 같다면\n",
        "    2-1-1. 해당하는 행정동코드를 변수(dong_code)에 저장하기\n",
        "```\n",
        "\n"
      ]
    },
    {
      "cell_type": "code",
      "metadata": {
        "id": "DlwLBCqlQ0gk",
        "colab": {
          "base_uri": "https://localhost:8080/"
        },
        "outputId": "a98e90cc-27ba-434d-d82b-0290fe851328"
      },
      "source": [
        "dong_name = input('핫플레이스가 위치한 행정동을 입력하세요 --> ')\n",
        "for row in code_data:\n",
        "    if row[-1] == dong_name:\n",
        "        dong_code = row[1]\n",
        "\n",
        "print(dong_name, '-',dong_code, '을(를) 분석합니다!')"
      ],
      "execution_count": 7,
      "outputs": [
        {
          "output_type": "stream",
          "name": "stdout",
          "text": [
            "핫플레이스가 위치한 행정동을 입력하세요 --> 압구정동\n",
            "압구정동 - 11680545 을(를) 분석합니다!\n"
          ]
        }
      ]
    },
    {
      "cell_type": "markdown",
      "metadata": {
        "id": "PhuepFwZ_CM4"
      },
      "source": [
        "## 하위목표 1  :  핫플레이스가 있는 행정동의 시간대별 평균인구 그래프 그려 분석하기\n",
        "\n",
        "\n",
        "<img src='https://github.com/teacher-jiejie/allinone_AI/blob/images/93_%ED%95%AB%ED%94%8C_%ED%95%98%EC%9C%84%EB%AA%A9%ED%91%9C1.png?raw=true' width=200>\n",
        "<img src='https://github.com/teacher-jiejie/allinone_AI/blob/images/97_%EC%9D%B8%EA%B5%AC%EB%A6%AC%EC%8A%A4%ED%8A%B8.png?raw=true' width=600>\n",
        "\n",
        "<br/>\n",
        "<br/>\n",
        "\n",
        "<img src='https://github.com/teacher-jiejie/allinone_AI/blob/images/98_%ED%95%98%EC%9C%84%EB%AA%A9%ED%91%9C1%EC%95%8C%EA%B3%A0%EB%A6%AC%EC%A6%98.png?raw=true' width=800>"
      ]
    },
    {
      "cell_type": "markdown",
      "metadata": {
        "id": "6qOyGvrzRMxV"
      },
      "source": [
        "# 1) 알고리즘 작성\n",
        "1. 시간대별 평균인구를 저장할 리스트(population)를 길이 24로 만들고 초깃값 0 저장하기\n",
        "2. 인구 데이터(data)의 첫 행부터 마지막 행까지 돌며 반복하기\n",
        "  \n",
        "  2.1 사용자가 입력한 행정동의 행정동코드(dong_code)와 인구 데이터(data)의 행정동코드(row[2])가 같다면\n",
        "\n",
        "    - 2.1.1 해당 행의 시간대(row[1])와 총생활인구수(row[3])를 각각 변수(time, p)에 저장하기\n",
        "\n",
        "    - 2.1.2 과정 2.1.1에서 저장한 시간대(time)가 population의 인덱스이므로 population[time]에 총생활인구수(p) 더하기\n",
        "3. 반복이 끝나면 population 리스트의 모든 값을 31로 나눈 후 population에 다시 저장하기\n",
        "4. 완성된 population 리스트로 시간대별 평균인구 그래프 그리기\n"
      ]
    },
    {
      "cell_type": "markdown",
      "metadata": {
        "id": "I6kwQD9a_1kx"
      },
      "source": [
        "### 2) 코드 작성하기\n"
      ]
    },
    {
      "cell_type": "code",
      "metadata": {
        "id": "VJrvFr8KMDss"
      },
      "source": [
        "population = []\n",
        "for i in range(24):\n",
        "    population.append(0)\n",
        "\n",
        "for row in data:\n",
        "    if row[2] == dong_code:\n",
        "        time = row[1]\n",
        "        p = row[3]\n",
        "        population[time] += p\n",
        "\n",
        "print(population)    # 현재 population은 총인구, 31로 나누어야 평균인구가 됨\n"
      ],
      "execution_count": null,
      "outputs": []
    },
    {
      "cell_type": "markdown",
      "metadata": {
        "id": "gQelqHL1XA2l"
      },
      "source": [
        "**추가로 배워봅시다!**\n",
        "\n",
        "1) 리스트 내포\n",
        "\n",
        "```\n",
        "population = []\n",
        "for i in range(24):\n",
        "    population.append(0)\n",
        "```\n",
        "코드라인 세줄 -> 한 줄\n",
        "\n",
        "\n",
        "```\n",
        "population = [0 for i in range(24)]\n",
        "```\n",
        "\n",
        "\n"
      ]
    },
    {
      "cell_type": "code",
      "metadata": {
        "id": "Y2khGtRgWm5A"
      },
      "source": [
        "# 리스트에 숫자 0을 24개 동시에 저장하기\n",
        "population = [0 for i in range(24)]\n",
        "print(population)"
      ],
      "execution_count": null,
      "outputs": []
    },
    {
      "cell_type": "code",
      "metadata": {
        "id": "AJT05e7Ho6Nd"
      },
      "source": [
        "# 리스트의 모든 원소를 31로 나누기\n",
        "population = [p/31 for p in population]\n",
        "print(population)"
      ],
      "execution_count": null,
      "outputs": []
    },
    {
      "cell_type": "markdown",
      "metadata": {
        "id": "JbA-0UkcXHw_"
      },
      "source": [
        "2) 변수 여러 개 코드라인 한 줄로 만들기"
      ]
    },
    {
      "cell_type": "code",
      "metadata": {
        "id": "sPzyk2W1WohU"
      },
      "source": [
        "apple, banana = 1200, 800\n",
        "print(apple)\n",
        "print(banana)"
      ],
      "execution_count": null,
      "outputs": []
    },
    {
      "cell_type": "markdown",
      "metadata": {
        "id": "8YXBk8HAXo3I"
      },
      "source": [
        "**추가로 배운 내용 적용하여 코드 간단하게 만들기**"
      ]
    },
    {
      "cell_type": "code",
      "metadata": {
        "id": "ujUmQ42WR9jO"
      },
      "source": [
        "import matplotlib.pyplot as plt\n",
        "\n",
        "population = [0 for i in range(24)]\n",
        "for row in data:\n",
        "    if row[2] == dong_code:\n",
        "        time, p = row[1], row[3]\n",
        "        population[time] += p\n",
        "population = [p/31 for p in population]\n",
        "\n",
        "plt.rc('font', family='NanumGothic')\n",
        "plt.title(dong_name + ' 시간대별 평균인구') # 그래프 제목\n",
        "plt.plot(range(24), population, color='indigo') # 그래프 그리기\n",
        "plt.xticks(range(24), range(24)) # x축 눈금\n",
        "plt.xlabel('시간대') # x축 이름\n",
        "plt.ylabel('평균인구수') # y축 이름\n",
        "plt.show()\n"
      ],
      "execution_count": null,
      "outputs": []
    },
    {
      "cell_type": "markdown",
      "metadata": {
        "id": "JUAtr0b5LkKX"
      },
      "source": [
        "## 하위목표1의 결과분석\n",
        "\n",
        "```\n",
        "- 압구정동은 새벽 1~6시에 인구가 가장 적음\n",
        "  (새벽에는 인구이동이 매우 적으므로 이 시간에 인구는 대부분 압구정에 거주하는 사람으로 추측할 수 있다.)\n",
        "- 12~18시가 인구가 가장 많음\n",
        "- 압구정동에 있는 핫플레이스를 가려면 10~11시쯤 브런치 약속이나 19시 이후 저녁약속을 잡으면 될 것 같다.\n",
        "```\n",
        "\n",
        "\n"
      ]
    },
    {
      "cell_type": "markdown",
      "metadata": {
        "id": "bA3D1y4XJa6h"
      },
      "source": [
        "## 하위목표 2  :  핫플레이스가 있는 행정동의 주중/주말 시간대별 평균인구 그래프 그리고 분석하기\n",
        "\n",
        "\n",
        "<img src='https://github.com/teacher-jiejie/allinone_AI/blob/images/94_%ED%95%AB%ED%94%8C_%ED%95%98%EC%9C%84%EB%AA%A9%ED%91%9C2.png?raw=true' width=300>\n",
        "\n",
        "\n",
        "\n"
      ]
    },
    {
      "cell_type": "markdown",
      "metadata": {
        "id": "iJpI1Y3cWBRH"
      },
      "source": [
        "**요일을 알려주는 datetime 라이브러리**\n",
        "<br/>\n",
        "0 - 월, 1 - 화, 2 - 수, 3 - 목, 4 - 금, 5 - 토, 6 - 일"
      ]
    },
    {
      "cell_type": "code",
      "metadata": {
        "id": "Nn4QcOzHWHhM"
      },
      "source": [
        "import datetime\n",
        "datetime.date(2019, 12, 15).weekday()"
      ],
      "execution_count": null,
      "outputs": []
    },
    {
      "cell_type": "markdown",
      "metadata": {
        "id": "rSWgtftdVU6j"
      },
      "source": [
        "###1) 알고리즘 작성\n",
        "1. 주중 시간대별 생활인구를 저장할 리스트(weekday)와 주말 시간대별 생활인구를 저장할 리스트(weekend)를 길이 24로 만들고 초깃값 0 저장하기\n",
        "2. 인구 데이터(data)의 첫 행부터 마지막 행까지 돌며 반복하기\n",
        "  \n",
        "  2.1 사용자가 입력한 행정동의 행정동코드(dong_code)와 인구 데이터(data)의 행정동코드(row[2])가 같다면\n",
        "    \n",
        "    - 2.1.1 해당 행의 시간대(time)와 총생활인구수(p), 기준일ID의 연도(year), 월(mon), 일(day)을 각각 변수에 저장하기\n",
        "    - 2.1.2 과정 2.1.1에서 저장한 연도(year), 월(mon), 일(day)을 datetime.date().weekday()에 넣어 주중/주말 구분하기\n",
        "    - 2.1.3 주중이면 주중 리스트(weekday[time])에 총생활인구수(p), 주말이면 주말 리스트(weekend[time])에 총생활인구수(p) 더하기\n",
        "\n",
        " **주중인구와 주말인구의 평균을 구하기 위해 2019년 12월의 주중일수와 주말일수를 알아야 함 (3~4) **\n",
        "3. 2019년 12월의 주중 일수(weekday_cnt)와 주말 일수(weekend_cnt)를 저장할 변수를 만들고 초깃값 0 저장하기\n",
        "4. 2019년 12월의 일수만큼 반복하기\n",
        "  4.1 datetime.date(2019, 12, i)가 주중이면 주중 일수(weekday_cnt)에 1, 주말이면 주말 일수(weekend_cnt)에 1 더하기\n",
        "5. 주중 리스트(weekday)의 각 요소를 주중 일수(weekday_cnt)로, 주말 리스트(weekend)의 각 요소를 주말 일수(weekend_cnt)로 나누어 주중/주말 평균인구 구하기\n",
        "6. 완성된 weekday와 weekend 리스트로 주중/주말 시간대별 평균인구 그래프 그리기"
      ]
    },
    {
      "cell_type": "markdown",
      "metadata": {
        "id": "mBC4IT0MJa6p"
      },
      "source": [
        "### 2) 코드 작성하기"
      ]
    },
    {
      "cell_type": "code",
      "metadata": {
        "id": "r9OTLu7pMChK"
      },
      "source": [
        "weekday = [0 for i in range(24)]\n",
        "weekend = [0 for i in range(24)]\n",
        "\n",
        "for row in data:\n",
        "    if row[2] == dong_code:\n",
        "        time, p = row[1], row[3]\n",
        "        year, mon, day = int(row[0][:4]), int(row[0][4:6]), int(row[0][6:])\n",
        "        num = datetime.date(year, mon, day).weekday()\n",
        "        if num < 5:\n",
        "            weekday[time] += p\n",
        "        else:\n",
        "            weekend[time] += p"
      ],
      "execution_count": 22,
      "outputs": []
    },
    {
      "cell_type": "code",
      "metadata": {
        "id": "R0J6hV14VWEo",
        "colab": {
          "base_uri": "https://localhost:8080/"
        },
        "outputId": "d7a38ca1-fc16-4063-8ead-d86912d27abf"
      },
      "source": [
        "# 2023년 10월의 주중/주말 일수 구하기\n",
        "weekday_cnt, weekend_cnt = 0, 0\n",
        "for i in range(1, 32):\n",
        "    if datetime.date(2019,12,i).weekday() < 5:\n",
        "        weekday_cnt += 1\n",
        "    else:\n",
        "        weekend_cnt += 1\n",
        "\n",
        "print('2023년 10월의 주중 일수 =', weekday_cnt, '주말 일수 =',weekend_cnt)\n",
        "\n",
        "weekday = [w/weekday_cnt for w in weekday]\n",
        "weekend = [w/weekend_cnt for w in weekend]"
      ],
      "execution_count": 23,
      "outputs": [
        {
          "output_type": "stream",
          "name": "stdout",
          "text": [
            "2023년 10월의 주중 일수 = 22 주말 일수 = 9\n"
          ]
        }
      ]
    },
    {
      "cell_type": "code",
      "metadata": {
        "id": "zt9AjDVMqh8G",
        "colab": {
          "base_uri": "https://localhost:8080/",
          "height": 469
        },
        "outputId": "c2a7576a-7d81-4a50-8d3b-9a4c10a450fc"
      },
      "source": [
        "plt.rc('font', family='NanumGothic')\n",
        "plt.title(dong_name + ' 주중/주말 시간대별 평균 인구')\n",
        "plt.plot(range(24), weekday, color = 'indigo', label='주중')\n",
        "plt.plot(range(24), weekend, color = 'orangered', label ='주말')\n",
        "plt.legend()\n",
        "plt.xlabel('시간대')\n",
        "plt.ylabel('평균인구수')\n",
        "plt.xticks(range(24), range(24))\n",
        "plt.show()"
      ],
      "execution_count": 24,
      "outputs": [
        {
          "output_type": "display_data",
          "data": {
            "text/plain": [
              "<Figure size 640x480 with 1 Axes>"
            ],
            "image/png": "[encoded data removed]"
          },
          "metadata": {}
        }
      ]
    },
    {
      "cell_type": "markdown",
      "metadata": {
        "id": "V0FDXtXxF0_u"
      },
      "source": [
        "## 하위목표2의 결과분석\n",
        "\n",
        "```\n",
        "- 압구정동은 주말보다 주중 인구가 더 많다.\n",
        "- 주말에 압구정에 간다면 그리 걱정하지 않아도 된다.\n",
        "```\n",
        "\n",
        "\n"
      ]
    },
    {
      "cell_type": "markdown",
      "metadata": {
        "id": "ZLt60QqXVHP7"
      },
      "source": [
        "## 하위목표 3  :  핫플레이스가 있는 행정동의 남/녀 시간대별 평균인구 그래프 그리고 분석하기\n",
        "\n",
        "\n",
        "<img src='https://github.com/teacher-jiejie/allinone_AI/blob/images/95_%ED%95%AB%ED%94%8C_%ED%95%98%EC%9C%84%EB%AA%A9%ED%91%9C3.png?raw=true' width=300>\n",
        "\n",
        "<br/>\n",
        "<br/>\n",
        "## 하위목표 3  :  핫플레이스가 있는 행정동의 남/녀 시간대별 평균인구 그래프 그리고 분석하기\n",
        "<br/>\n",
        "\n",
        "<img src='https://github.com/teacher-jiejie/allinone_AI/blob/images/95_%ED%95%AB%ED%94%8C_%ED%95%98%EC%9C%84%EB%AA%A9%ED%91%9C3.png?raw=true' width=300>\n",
        "\n",
        "<br/>\n",
        "<br/>\n",
        "\n",
        "<img src='https://github.com/teacher-jiejie/allinone_AI/blob/images/123_%E1%84%92%E1%85%A1%E1%86%BA%E1%84%91%E1%85%B3%E1%86%AF%E1%84%85%E1%85%A6%E1%84%8B%E1%85%B5%E1%84%89%E1%85%B3%20%E1%84%91%E1%85%B3%E1%84%85%E1%85%A9%E1%84%8C%E1%85%A6%E1%86%A8%E1%84%90%E1%85%B33-1.png?raw=true' width=750>\n",
        "\n",
        "<br/>\n",
        "<br/>\n",
        "\n",
        "<img src='https://github.com/teacher-jiejie/allinone_AI/blob/images/124_%E1%84%92%E1%85%A1%E1%86%BA%E1%84%91%E1%85%B3%E1%86%AF%E1%84%85%E1%85%A6%E1%84%8B%E1%85%B5%E1%84%89%E1%85%B3%20%E1%84%91%E1%85%B3%E1%84%85%E1%85%A9%E1%84%8C%E1%85%A6%E1%86%A8%E1%84%90%E1%85%B33-2.png?raw=true' width=750>\n",
        "\n",
        "<img src='https://github.com/teacher-jiejie/allinone_AI/blob/images/125_%E1%84%92%E1%85%A1%E1%86%BA%E1%84%91%E1%85%B3%E1%86%AF%E1%84%85%E1%85%A6%E1%84%8B%E1%85%B5%E1%84%89%E1%85%B3%20%E1%84%91%E1%85%B3%E1%84%85%E1%85%A9%E1%84%8C%E1%85%A6%E1%86%A8%E1%84%90%E1%85%B33-3.png?raw=true' width=750>\n",
        "\n"
      ]
    },
    {
      "cell_type": "markdown",
      "metadata": {
        "id": "nvGIKM4iq1OY"
      },
      "source": [
        "### 1) 알고리즘 작성\n",
        "\n",
        "\n",
        "```\n",
        "1. 남성 시간대별 생활인구를 저장할 리스트(male)와 여성 시간대별 생활인구를 저장할 리스트(female)를 길이 24로 만들고 초깃값 0 저장하기\n",
        "2. 인구 데이터(data)의 첫 행부터 마지막 행까지 돌며 반복하기\n",
        "  2.1 사용자가 입력한 행정동의 행정동코드(dong_code)와 인구 데이터(data)의 행정동코드(row[2])가 같다면\n",
        "    2.1.1 해당 행의 시간대(열 인덱스 [1])를 변수(time)에 저장하기\n",
        "    2.1.2 열 인덱스 [4]부터 [17]까지의 합을  male[time]에 더하기\n",
        "    2.1.3 열 인덱스 [18]부터 [31]까지의 합을 female[time]에 더하기\n",
        "3. 반복이 끝나면 남성 생활인구 리스트(male)와 여성 생활인구 리스트(female)를 각각 31로 나누어 시간대별 평균인구 구하기\n",
        "4. 완성된 male과 female 리스트로 시간대별 평균인구 그래프 그리기\n",
        "```\n",
        "\n"
      ]
    },
    {
      "cell_type": "markdown",
      "metadata": {
        "id": "J5Zcpi8QVHP7"
      },
      "source": [
        "### 2) 코드 작성하기"
      ]
    },
    {
      "cell_type": "code",
      "metadata": {
        "id": "UrGeGDBWVHP8"
      },
      "source": [],
      "execution_count": null,
      "outputs": []
    },
    {
      "cell_type": "code",
      "metadata": {
        "id": "fzDnFt4MVcwy"
      },
      "source": [],
      "execution_count": null,
      "outputs": []
    },
    {
      "cell_type": "markdown",
      "metadata": {
        "id": "bdms2-YpVHP8"
      },
      "source": [
        "## 하위목표3의 결과분석\n",
        "\n",
        "```\n",
        "- 압구정동에는 여성이 남성보다 항상 더 많다.\n",
        "- 남성 인구의 증감폭보다 여성 인구의 증감폭이 더 크다.\n",
        "- 만약 압구정동의 여성이 선호하는 핫플레이스라면 점심시간에 붐빌수도 있다.\n",
        "```\n",
        "\n",
        "\n"
      ]
    },
    {
      "cell_type": "markdown",
      "metadata": {
        "id": "1nvf9GALVkW6"
      },
      "source": [
        "## 하위목표 4  :  핫플레이스가 있는 행정동과 익숙한 행정동의 시간대별 평균인구 그래프 그려서 비교 분석하기\n",
        "\n",
        "<img src='https://github.com/teacher-jiejie/allinone_AI/blob/images/96_%ED%95%AB%ED%94%8C_%ED%95%98%EC%9C%84%EB%AA%A9%ED%91%9C4.png?raw=true' width=300>\n",
        "\n",
        "\n"
      ]
    },
    {
      "cell_type": "markdown",
      "metadata": {
        "id": "A8dCGBuBVt0S"
      },
      "source": [
        "\n",
        "### 1) 알고리즘 작성\n",
        "\n",
        "```\n",
        "1. 사용자에게서 행정동명을 입력받아 행정동코드를 구한 후 이 값을 dong_code에 저장하기\n",
        "2. 비교할 행정동명을 입력받아 행정동코드를 구한 후 이 값을 dong_code2에 저장하기\n",
        "3. 핫플레이스의 행정동 인구를 저장할 리스트(population)와 비교할 행정동 인구를 저장할 리스트(population2)를 길이 24로 만들고 초깃값 0 저장하기\n",
        "4. 인구 데이터(data)의 첫 행부터 마지막 행까지 돌며 반복하기\n",
        "  4.1 사용자가 입력한 행정동의 행정동코드(dong_code)와 인구 데이터(data)의 행정동코드(row[2])가 같다면\n",
        "    4.1.1 해당 행의 시간대(row[1])와 총생활인구수(row[3])를 각각 변수(time, p)에 저장하기\n",
        "    4.1.2 인덱스가 time인 population 리스트의 요소(population[time])에 총생활인구수(p)를 더하기\n",
        "4.2 비교할 행정동의 행정동코드(dong_code2)와 인구 데이터(data)의 행정동코드(열 인덱스 [2])가 같다면\n",
        "    4.2.1 해당 행의 시간대(열 인덱스[1])와 총생활인구수(열 인덱스[3])를 각각 변수(time, p)에 저장하기\n",
        "    4.2.2 인덱스가 time인 population2 리스트의 요소(population2[time])에 총생활인구수(p)를 더하기\n",
        "5. 반복이 끝나면 두 리스트(population, population2)의 모든 값을 31로 나누어 다시 저장하기\n",
        "6. 완성된 리스트로 두 지역의 시간대별 평균인구 그래프 그리기\n",
        "```\n"
      ]
    },
    {
      "cell_type": "markdown",
      "metadata": {
        "id": "AtPrU6amVkW8"
      },
      "source": [
        "### 2) 코드 작성하기"
      ]
    },
    {
      "cell_type": "code",
      "metadata": {
        "id": "xzQYBKpJVkW9",
        "colab": {
          "base_uri": "https://localhost:8080/"
        },
        "outputId": "07553d8b-8aba-4b45-a442-b67a0a8e7196"
      },
      "source": [
        "# 핫플레이스가 있는 행정동\n",
        "\n",
        "\n",
        "# 비교할 행정동\n",
        "\n"
      ],
      "execution_count": 18,
      "outputs": [
        {
          "name": "stdout",
          "output_type": "stream",
          "text": [
            "핫플레이스가 위치한 행정동을 입력하세요 --> 압구정동\n",
            "비교할 행정동을 입력하세요 --> 역삼2동\n"
          ]
        }
      ]
    },
    {
      "cell_type": "code",
      "metadata": {
        "id": "Dgt2J3KnVkW-"
      },
      "source": [],
      "execution_count": null,
      "outputs": []
    },
    {
      "cell_type": "code",
      "metadata": {
        "id": "fy2ZuOaLrsXv"
      },
      "source": [],
      "execution_count": null,
      "outputs": []
    },
    {
      "cell_type": "markdown",
      "metadata": {
        "id": "fnyDIzCXVkW_"
      },
      "source": [
        "## 하위목표4의 결과분석\n",
        "\n",
        "```\n",
        "- 인구이동이 적은 새벽 인구가 해당 동에 거주하는 인구라 가정한다면, 역삼 2동이 압구정동보다 거주 인구가 많다.\n",
        "- 인구 이동은 역삼 2동보다 압구정동이 더 많다.\n",
        "- 대부분의 시간에는 역삼2동의 인구가 더 많지만 17~20시 사이에는 압구정동이 더 많다.\n",
        "- 17~20시에는 역삼2동으로, 그 외 시간대에는 압구정동으로 가는 것이 사람이 덜 붐빈다.\n",
        "```\n",
        "\n",
        "\n"
      ]
    },
    {
      "cell_type": "code",
      "metadata": {
        "id": "etnWKBDSVkW_"
      },
      "source": [],
      "execution_count": null,
      "outputs": []
    }
  ]
}