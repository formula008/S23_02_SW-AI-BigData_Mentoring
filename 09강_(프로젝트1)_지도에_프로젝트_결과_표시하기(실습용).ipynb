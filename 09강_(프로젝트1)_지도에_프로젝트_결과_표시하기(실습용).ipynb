{
  "cells": [
    {
      "cell_type": "markdown",
      "metadata": {
        "id": "view-in-github",
        "colab_type": "text"
      },
      "source": [
        "<a href=\"https://colab.research.google.com/github/formula008/S23_02_SW-AI-BigData_Mentoring/blob/main/09%EA%B0%95_(%ED%94%84%EB%A1%9C%EC%A0%9D%ED%8A%B81)_%EC%A7%80%EB%8F%84%EC%97%90_%ED%94%84%EB%A1%9C%EC%A0%9D%ED%8A%B8_%EA%B2%B0%EA%B3%BC_%ED%91%9C%EC%8B%9C%ED%95%98%EA%B8%B0(%EC%8B%A4%EC%8A%B5%EC%9A%A9).ipynb\" target=\"_parent\"><img src=\"https://colab.research.google.com/assets/colab-badge.svg\" alt=\"Open In Colab\"/></a>"
      ]
    },
    {
      "cell_type": "markdown",
      "id": "0d48824b",
      "metadata": {
        "id": "0d48824b"
      },
      "source": [
        "# 1. 필요한 데이터 파일 모두 읽어 들이기"
      ]
    },
    {
      "cell_type": "code",
      "execution_count": null,
      "id": "a12bfcd6",
      "metadata": {
        "id": "a12bfcd6"
      },
      "outputs": [],
      "source": [
        "# 1-1 인구데이터 읽어와서 리스트로 저장하기\n"
      ]
    },
    {
      "cell_type": "code",
      "execution_count": null,
      "id": "b86aa89b",
      "metadata": {
        "id": "b86aa89b"
      },
      "outputs": [],
      "source": [
        "# 1-2 행정동코드 데이터 읽어와서 리스트로 저장하기\n"
      ]
    },
    {
      "cell_type": "code",
      "execution_count": null,
      "id": "7403e70a",
      "metadata": {
        "id": "7403e70a"
      },
      "outputs": [],
      "source": [
        "# 1-3 위치 정보 데이터 읽어와서 리스트로 저장하기\n"
      ]
    },
    {
      "cell_type": "code",
      "execution_count": null,
      "id": "5f826633",
      "metadata": {
        "id": "5f826633"
      },
      "outputs": [],
      "source": [
        "# 1-4 인구 데이터의 타입 변환하기\n"
      ]
    },
    {
      "cell_type": "code",
      "execution_count": null,
      "id": "0d1379f9",
      "metadata": {
        "id": "0d1379f9"
      },
      "outputs": [],
      "source": [
        "# 1-5 행정동코드 데이터의 데이터 타입 변환하기\n"
      ]
    },
    {
      "cell_type": "code",
      "execution_count": null,
      "id": "5bc15757",
      "metadata": {
        "id": "5bc15757"
      },
      "outputs": [],
      "source": [
        "# 1-6 위치 정보 데이터의 데이터 타입 변환하기\n"
      ]
    },
    {
      "cell_type": "markdown",
      "id": "88353369",
      "metadata": {
        "scrolled": true,
        "id": "88353369"
      },
      "source": [
        "# 2. 행정동별 인구수를 저장하는 빈 딕셔너리를 만들고"
      ]
    },
    {
      "cell_type": "code",
      "execution_count": null,
      "id": "14b89f17",
      "metadata": {
        "id": "14b89f17"
      },
      "outputs": [],
      "source": [
        "# 행정동별 총생활인구수를 딕셔너리에 저장하기\n"
      ]
    },
    {
      "cell_type": "markdown",
      "id": "1c2bc2c2",
      "metadata": {
        "id": "1c2bc2c2"
      },
      "source": [
        "# 3. 인구수를 기준으로 내림차순 정렬하고,"
      ]
    },
    {
      "cell_type": "code",
      "execution_count": null,
      "id": "171770a8",
      "metadata": {
        "id": "171770a8"
      },
      "outputs": [],
      "source": [
        "\n"
      ]
    },
    {
      "cell_type": "code",
      "execution_count": null,
      "id": "e029d737",
      "metadata": {
        "id": "e029d737"
      },
      "outputs": [],
      "source": [
        "# 앞에서 10개 항목만 별도로 저장하기\n"
      ]
    },
    {
      "cell_type": "markdown",
      "id": "c630659a",
      "metadata": {
        "id": "c630659a"
      },
      "source": [
        "# 4. 8자리 행정동코드에 해당하는 행정동명 찾기\n",
        "\n",
        "# 5. 행정동명에 해당하는 위도와 경도를 찾아 리스트에 저장하기"
      ]
    },
    {
      "cell_type": "code",
      "execution_count": null,
      "id": "99a927da",
      "metadata": {
        "id": "99a927da"
      },
      "outputs": [],
      "source": []
    },
    {
      "cell_type": "markdown",
      "id": "f77d5b64",
      "metadata": {
        "id": "f77d5b64"
      },
      "source": [
        "# 6. 완성된 리스트로 지도 그리기"
      ]
    },
    {
      "cell_type": "code",
      "execution_count": null,
      "id": "b470c75b",
      "metadata": {
        "id": "b470c75b"
      },
      "outputs": [],
      "source": []
    },
    {
      "cell_type": "code",
      "execution_count": null,
      "id": "47523cb8",
      "metadata": {
        "id": "47523cb8"
      },
      "outputs": [],
      "source": [
        "# 6-1. 행정동명 앞에 순위 표시하기\n"
      ]
    }
  ],
  "metadata": {
    "kernelspec": {
      "display_name": "Python 3",
      "language": "python",
      "name": "python3"
    },
    "language_info": {
      "codemirror_mode": {
        "name": "ipython",
        "version": 3
      },
      "file_extension": ".py",
      "mimetype": "text/x-python",
      "name": "python",
      "nbconvert_exporter": "python",
      "pygments_lexer": "ipython3",
      "version": "3.8.8"
    },
    "colab": {
      "provenance": [],
      "include_colab_link": true
    }
  },
  "nbformat": 4,
  "nbformat_minor": 5
}